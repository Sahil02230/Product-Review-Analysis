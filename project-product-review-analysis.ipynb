{
 "cells": [
  {
   "cell_type": "code",
   "execution_count": 1,
   "id": "39e71bbc",
   "metadata": {
    "execution": {
     "iopub.execute_input": "2024-03-10T16:36:49.092205Z",
     "iopub.status.busy": "2024-03-10T16:36:49.091764Z",
     "iopub.status.idle": "2024-03-10T16:36:52.764267Z",
     "shell.execute_reply": "2024-03-10T16:36:52.762821Z"
    },
    "papermill": {
     "duration": 3.684773,
     "end_time": "2024-03-10T16:36:52.767977",
     "exception": false,
     "start_time": "2024-03-10T16:36:49.083204",
     "status": "completed"
    },
    "tags": []
   },
   "outputs": [
    {
     "name": "stderr",
     "output_type": "stream",
     "text": [
      "/opt/conda/lib/python3.10/site-packages/nltk/twitter/__init__.py:20: UserWarning: The twython library has not been installed. Some functionality from the twitter package will not be available.\n",
      "  warnings.warn(\"The twython library has not been installed. \"\n"
     ]
    }
   ],
   "source": [
    "import pandas as pd\n",
    "import numpy as np\n",
    "import matplotlib.pyplot as plt\n",
    "import seaborn as sns\n",
    "plt.style.use('ggplot')\n",
    "import nltk\n",
    "from nltk.sentiment import SentimentIntensityAnalyzer"
   ]
  },
  {
   "cell_type": "code",
   "execution_count": 2,
   "id": "593dcb5e",
   "metadata": {
    "execution": {
     "iopub.execute_input": "2024-03-10T16:36:52.782971Z",
     "iopub.status.busy": "2024-03-10T16:36:52.782365Z",
     "iopub.status.idle": "2024-03-10T16:37:01.070112Z",
     "shell.execute_reply": "2024-03-10T16:37:01.068688Z"
    },
    "papermill": {
     "duration": 8.29862,
     "end_time": "2024-03-10T16:37:01.073226",
     "exception": false,
     "start_time": "2024-03-10T16:36:52.774606",
     "status": "completed"
    },
    "tags": []
   },
   "outputs": [],
   "source": [
    "df = pd.read_csv('/kaggle/input/amazon-fine-food-reviews/Reviews.csv')"
   ]
  },
  {
   "cell_type": "code",
   "execution_count": 3,
   "id": "5354f669",
   "metadata": {
    "execution": {
     "iopub.execute_input": "2024-03-10T16:37:01.088575Z",
     "iopub.status.busy": "2024-03-10T16:37:01.087536Z",
     "iopub.status.idle": "2024-03-10T16:37:01.093278Z",
     "shell.execute_reply": "2024-03-10T16:37:01.092053Z"
    },
    "papermill": {
     "duration": 0.016325,
     "end_time": "2024-03-10T16:37:01.096077",
     "exception": false,
     "start_time": "2024-03-10T16:37:01.079752",
     "status": "completed"
    },
    "tags": []
   },
   "outputs": [],
   "source": [
    "df = df.head(5000)"
   ]
  },
  {
   "cell_type": "code",
   "execution_count": 4,
   "id": "e971aab7",
   "metadata": {
    "execution": {
     "iopub.execute_input": "2024-03-10T16:37:01.110449Z",
     "iopub.status.busy": "2024-03-10T16:37:01.110058Z",
     "iopub.status.idle": "2024-03-10T16:37:01.124546Z",
     "shell.execute_reply": "2024-03-10T16:37:01.123423Z"
    },
    "papermill": {
     "duration": 0.024858,
     "end_time": "2024-03-10T16:37:01.127307",
     "exception": false,
     "start_time": "2024-03-10T16:37:01.102449",
     "status": "completed"
    },
    "tags": []
   },
   "outputs": [],
   "source": [
    "columns_to_keep = ['ProductId','Score','Text']\n",
    "prod_df = df[columns_to_keep].copy()"
   ]
  },
  {
   "cell_type": "code",
   "execution_count": 5,
   "id": "df049f3d",
   "metadata": {
    "execution": {
     "iopub.execute_input": "2024-03-10T16:37:01.142426Z",
     "iopub.status.busy": "2024-03-10T16:37:01.142028Z",
     "iopub.status.idle": "2024-03-10T16:37:01.148295Z",
     "shell.execute_reply": "2024-03-10T16:37:01.146878Z"
    },
    "papermill": {
     "duration": 0.016759,
     "end_time": "2024-03-10T16:37:01.150893",
     "exception": false,
     "start_time": "2024-03-10T16:37:01.134134",
     "status": "completed"
    },
    "tags": []
   },
   "outputs": [],
   "source": [
    "def allreviews():\n",
    "    return prod_df"
   ]
  },
  {
   "cell_type": "code",
   "execution_count": 6,
   "id": "936a2af8",
   "metadata": {
    "execution": {
     "iopub.execute_input": "2024-03-10T16:37:01.165463Z",
     "iopub.status.busy": "2024-03-10T16:37:01.165052Z",
     "iopub.status.idle": "2024-03-10T16:37:01.173340Z",
     "shell.execute_reply": "2024-03-10T16:37:01.171719Z"
    },
    "papermill": {
     "duration": 0.018743,
     "end_time": "2024-03-10T16:37:01.176057",
     "exception": false,
     "start_time": "2024-03-10T16:37:01.157314",
     "status": "completed"
    },
    "tags": []
   },
   "outputs": [],
   "source": [
    "def specific_prod_reviews(prod_no):\n",
    "    unique_value_counts = prod_df['ProductId'].value_counts()\n",
    "    unique_value_counts\n",
    "    unique_values = df['ProductId'].unique() # To get all product ids\n",
    "    unique_values_list = unique_value_counts.index.tolist() #sorts productid according to maximum no of reviews\n",
    "    for i in unique_values:\n",
    "        target_value = unique_values_list[prod_no-1]\n",
    "        target_column = 'ProductId'\n",
    "        prod1_df = prod_df[prod_df[target_column] == target_value].copy()\n",
    "        \n",
    "    return prod1_df"
   ]
  },
  {
   "cell_type": "code",
   "execution_count": 7,
   "id": "fe4023cc",
   "metadata": {
    "execution": {
     "iopub.execute_input": "2024-03-10T16:37:01.190707Z",
     "iopub.status.busy": "2024-03-10T16:37:01.190269Z",
     "iopub.status.idle": "2024-03-10T16:37:01.196894Z",
     "shell.execute_reply": "2024-03-10T16:37:01.195564Z"
    },
    "papermill": {
     "duration": 0.017047,
     "end_time": "2024-03-10T16:37:01.199522",
     "exception": false,
     "start_time": "2024-03-10T16:37:01.182475",
     "status": "completed"
    },
    "tags": []
   },
   "outputs": [],
   "source": [
    "def reviews_according_to_stars(star,prod_no):\n",
    "    prod1_df=specific_prod_reviews(prod_no)\n",
    "    for i in prod1_df.itertuples(index=False):\n",
    "        target_value = star\n",
    "        target_column = 'Score'\n",
    "        prod1_star_df = prod1_df.loc[prod1_df[target_column] == target_value].copy()\n",
    "    return prod1_star_df"
   ]
  },
  {
   "cell_type": "code",
   "execution_count": 8,
   "id": "1e14a1a6",
   "metadata": {
    "execution": {
     "iopub.execute_input": "2024-03-10T16:37:01.213779Z",
     "iopub.status.busy": "2024-03-10T16:37:01.213353Z",
     "iopub.status.idle": "2024-03-10T16:37:01.222877Z",
     "shell.execute_reply": "2024-03-10T16:37:01.221385Z"
    },
    "papermill": {
     "duration": 0.01963,
     "end_time": "2024-03-10T16:37:01.225490",
     "exception": false,
     "start_time": "2024-03-10T16:37:01.205860",
     "status": "completed"
    },
    "tags": []
   },
   "outputs": [],
   "source": [
    "def sentiment_analysis(prod_no):\n",
    "    prod1_df=specific_prod_reviews(prod_no)\n",
    "    reviews = prod1_df['Text']\n",
    "    dfs_to_concatenate=[]\n",
    "    sia = SentimentIntensityAnalyzer()\n",
    "    for review in reviews:\n",
    "        sentiment_score = sia.polarity_scores(review)['compound']\n",
    "        if sentiment_score >= 0.05:\n",
    "            sentiment = \"Positive\"\n",
    "        elif sentiment_score <= -0.05:\n",
    "            sentiment = \"Negative\"\n",
    "        else:\n",
    "            sentiment = \"Neutral\"\n",
    "        review=review\n",
    "        sentiment=sentiment\n",
    "        sentiment_score=sentiment_score\n",
    "        current_df = pd.DataFrame({'Reviews': [review], 'Sentiments': [sentiment], 'Sentiment_score': [sentiment_score]})\n",
    "        dfs_to_concatenate.append(current_df)\n",
    "    df = pd.concat(dfs_to_concatenate, ignore_index=True)\n",
    "    \n",
    "    return df"
   ]
  },
  {
   "cell_type": "code",
   "execution_count": 9,
   "id": "1a525ff9",
   "metadata": {
    "execution": {
     "iopub.execute_input": "2024-03-10T16:37:01.240406Z",
     "iopub.status.busy": "2024-03-10T16:37:01.239717Z",
     "iopub.status.idle": "2024-03-10T16:37:01.247995Z",
     "shell.execute_reply": "2024-03-10T16:37:01.246655Z"
    },
    "papermill": {
     "duration": 0.018931,
     "end_time": "2024-03-10T16:37:01.250767",
     "exception": false,
     "start_time": "2024-03-10T16:37:01.231836",
     "status": "completed"
    },
    "tags": []
   },
   "outputs": [],
   "source": [
    "def Positive_sentiment(prodno):\n",
    "    prod1_sentiment_df=sentiment_analysis(prodno)\n",
    "    specific_value = 'Positive' \n",
    "    filter_column = 'Sentiments'\n",
    "    Positive_sentiment_df = prod1_sentiment_df[prod1_sentiment_df[filter_column] == specific_value]\n",
    "    return Positive_sentiment_df\n",
    "    \n",
    "def Negative_sentiment(prodno):\n",
    "    prod1_sentiment_df=sentiment_analysis(prodno)\n",
    "    specific_value = 'Negative' \n",
    "    filter_column = 'Sentiments'\n",
    "    Negative_sentiment_df = prod1_sentiment_df[prod1_sentiment_df[filter_column] == specific_value]\n",
    "    return Negative_sentiment_df\n",
    "    \n",
    "def Neutral_sentiment(prodno):\n",
    "    prod1_sentiment_df=sentiment_analysis(prodno)\n",
    "    specific_value = 'Neutral' \n",
    "    filter_column = 'Sentiments'\n",
    "    Neutral_sentiment_df = prod1_sentiment_df[prod1_sentiment_df[filter_column] == specific_value]\n",
    "    return Neutral_sentiment_df"
   ]
  },
  {
   "cell_type": "code",
   "execution_count": 10,
   "id": "6b54fd2b",
   "metadata": {
    "execution": {
     "iopub.execute_input": "2024-03-10T16:37:01.265198Z",
     "iopub.status.busy": "2024-03-10T16:37:01.264757Z",
     "iopub.status.idle": "2024-03-10T16:37:01.272729Z",
     "shell.execute_reply": "2024-03-10T16:37:01.271686Z"
    },
    "papermill": {
     "duration": 0.017968,
     "end_time": "2024-03-10T16:37:01.274979",
     "exception": false,
     "start_time": "2024-03-10T16:37:01.257011",
     "status": "completed"
    },
    "tags": []
   },
   "outputs": [],
   "source": [
    "def count_graph(prod_no):\n",
    "    df = specific_prod_reviews(prod_no)\n",
    "    plt.figure(figsize=(8, 6))\n",
    "    ax=sns.countplot(x='Score', data=df,)\n",
    "    # Add count annotations to each bar\n",
    "    for p in ax.patches:\n",
    "        ax.annotate(f'{p.get_height()}', (p.get_x() + p.get_width() / 2., p.get_height()), ha='center', va='baseline')\n",
    "    plt.xlabel('Ratings')\n",
    "    plt.ylabel('Count')\n",
    "    plt.title('Graph for Product')\n",
    "    plt.show()"
   ]
  },
  {
   "cell_type": "code",
   "execution_count": 11,
   "id": "ce640c8b",
   "metadata": {
    "execution": {
     "iopub.execute_input": "2024-03-10T16:37:01.289915Z",
     "iopub.status.busy": "2024-03-10T16:37:01.289122Z",
     "iopub.status.idle": "2024-03-10T16:37:01.297949Z",
     "shell.execute_reply": "2024-03-10T16:37:01.296529Z"
    },
    "papermill": {
     "duration": 0.019672,
     "end_time": "2024-03-10T16:37:01.300900",
     "exception": false,
     "start_time": "2024-03-10T16:37:01.281228",
     "status": "completed"
    },
    "tags": []
   },
   "outputs": [],
   "source": [
    "def pie_graph(prod_no):\n",
    "    explode = [0.03,0,0.1,0,0] # To slice the perticuler section\n",
    "    colors = [\"c\", 'b','r','y','g'] # Color of each section\n",
    "    textprops = {\"fontsize\":10}\n",
    "    df = specific_prod_reviews(prod_no)\n",
    "    unique_value_counts = df['Score'].value_counts()\n",
    "    unique_values = df['Score'].unique() \n",
    "    plt.pie(unique_value_counts,labels=unique_values,explode = explode, colors =colors, autopct = \"%0.2f%%\",shadow = True, radius = 1.4,textprops=textprops)\n",
    "    plt.title('Graph for Product')\n",
    "    plt.show()"
   ]
  },
  {
   "cell_type": "code",
   "execution_count": 12,
   "id": "622abc4e",
   "metadata": {
    "execution": {
     "iopub.execute_input": "2024-03-10T16:37:01.317041Z",
     "iopub.status.busy": "2024-03-10T16:37:01.316390Z",
     "iopub.status.idle": "2024-03-10T16:37:01.322439Z",
     "shell.execute_reply": "2024-03-10T16:37:01.321318Z"
    },
    "papermill": {
     "duration": 0.017707,
     "end_time": "2024-03-10T16:37:01.325073",
     "exception": false,
     "start_time": "2024-03-10T16:37:01.307366",
     "status": "completed"
    },
    "tags": []
   },
   "outputs": [],
   "source": [
    "def all_count_graph():\n",
    "    cmp=int(input(\" How many products do you want to compare?\"))\n",
    "    i=0\n",
    "    while i != cmp:\n",
    "        i+=1\n",
    "        prod_no=int(input(\"Enter no of product to be compared:\"))\n",
    "        count_graph(prod_no)"
   ]
  },
  {
   "cell_type": "code",
   "execution_count": 13,
   "id": "8b213305",
   "metadata": {
    "execution": {
     "iopub.execute_input": "2024-03-10T16:37:01.339348Z",
     "iopub.status.busy": "2024-03-10T16:37:01.338943Z",
     "iopub.status.idle": "2024-03-10T16:37:01.345648Z",
     "shell.execute_reply": "2024-03-10T16:37:01.344125Z"
    },
    "papermill": {
     "duration": 0.017023,
     "end_time": "2024-03-10T16:37:01.348247",
     "exception": false,
     "start_time": "2024-03-10T16:37:01.331224",
     "status": "completed"
    },
    "tags": []
   },
   "outputs": [],
   "source": [
    "def all_pie_graph():\n",
    "    cmp=int(input(\" How many products do you want to compare?\"))\n",
    "    i=0\n",
    "    while i != cmp:\n",
    "        i+=1\n",
    "        prod_no=int(input(\"Enter no of product to be compared:\"))\n",
    "        pie_graph(prod_no)"
   ]
  },
  {
   "cell_type": "code",
   "execution_count": 14,
   "id": "d3bf3640",
   "metadata": {
    "execution": {
     "iopub.execute_input": "2024-03-10T16:37:01.362986Z",
     "iopub.status.busy": "2024-03-10T16:37:01.362538Z",
     "iopub.status.idle": "2024-03-10T16:37:01.375464Z",
     "shell.execute_reply": "2024-03-10T16:37:01.374667Z"
    },
    "papermill": {
     "duration": 0.023429,
     "end_time": "2024-03-10T16:37:01.377912",
     "exception": false,
     "start_time": "2024-03-10T16:37:01.354483",
     "status": "completed"
    },
    "tags": []
   },
   "outputs": [
    {
     "data": {
      "text/plain": [
       "'\\nchoice=99\\nwhile choice != 0:\\n    try:\\n        choice = int(input(\"\\n\\nEnter 0 to EXIT\\n\\nEnter 1 to Get dataframe of all product and it\\'s reviews\\n\\nEnter 2 to Get dataframe of specific product\\n\\nEnter 3 to Get dataframe of reviews according to stars of specific product\\n\\nEnter 4 to Get Sentiment analysis menu \\n\\nEnter 5 to get Graph menu\\n\\n\\tEnter your Choice:\"))\\n        match choice:\\n            case 0:\\n                print(\"EXIT\")\\n                break;\\n        \\n            case 1:\\n                print(allreviews())\\n                \\n            case 2:\\n                prodno=int(input(\"Enter Product Number:\"))\\n                print(specific_prod_reviews(prodno))\\n\\n            case 3:\\n                prodno=int(input(\"Enter Product Number:\"))\\n                star=int(input(\"Enter Star Number:\"))\\n                print(reviews_according_to_stars(star,prodno))\\n    \\n            case 4:\\n                choice2=99\\n                while choice2 != 0:\\n                    choice2=int(input(\"\\nEnter 0 to EXIT sentiment analysis menu                    \\nEnter 1 to run sentiment analysis on reviews of specific product                    \\nEnter 2 to get all positive reviews                    \\nEnter 3 to get all negative reviews                    \\nEnter 4 to get all neutral reviews                    \\n\\tEnter Your Choice:\"))\\n                    match choice2:\\n                        case 0:\\n                            print(\"EXIT\")\\n                            break;\\n        \\n                        case 1:\\n                            prodno=int(input(\"Enter Product Number:\"))\\n                            print(sentiment_analysis(prodno))\\n                        \\n                        case 2:\\n                            prodno=int(input(\"Enter Product Number:\"))\\n                            print(Positive_sentiment(prodno))\\n                            \\n                        case 3:\\n                            prodno=int(input(\"Enter Product Number:\"))\\n                            print(Negative_sentiment(prodno))\\n                            \\n                        case 4:\\n                            prodno=int(input(\"Enter Product Number:\"))\\n                            print(Neutral_sentiment(prodno))\\n                    \\n            case 5:\\n                choice3=99\\n                while choice3 != 0:\\n                    choice3=int(input(\"\\nEnter 0 to EXIT Graph menu                    \\nEnter 1 to get count graph of specific product                    \\nEnter 2 to get pie graph of specific product                    \\nEnter 3 to compare products using count graph                    \\nEnter 4 to compare products using pie graph                    \\n\\tEnter Your Choice:\"))\\n                    match choice3:\\n                        case 0:\\n                            print(\"EXIT\")\\n                            break;\\n    \\n                        case 1:\\n                            prodno=int(input(\"Enter Product Number:\"))\\n                            count_graph(prodno)\\n                        \\n                        case 2:\\n                            prodno=int(input(\"Enter Product Number:\"))\\n                            pie_graph(prodno)\\n                            \\n                        case 3:\\n                            all_count_graph()\\n                        \\n                        case 4:\\n                            all_pie_graph()\\n            \\n            case _:\\n                print(\"Invalid Input.Try Again!\")\\n                \\n    except:\\n        print(\" Invalid Input.Try Again!\")\\n'"
      ]
     },
     "execution_count": 14,
     "metadata": {},
     "output_type": "execute_result"
    }
   ],
   "source": [
    "\"\"\"\n",
    "choice=99\n",
    "while choice != 0:\n",
    "    try:\n",
    "        choice = int(input(\"\\n\\nEnter 0 to EXIT\\n\\nEnter 1 to Get dataframe of all product and it's reviews\\n\\nEnter 2 to Get dataframe of specific product\\n\\nEnter 3 to Get dataframe of reviews according to stars of specific product\\n\\nEnter 4 to Get Sentiment analysis menu \\n\\nEnter 5 to get Graph menu\\n\\n\\tEnter your Choice:\"))\n",
    "        match choice:\n",
    "            case 0:\n",
    "                print(\"EXIT\")\n",
    "                break;\n",
    "        \n",
    "            case 1:\n",
    "                print(allreviews())\n",
    "                \n",
    "            case 2:\n",
    "                prodno=int(input(\"Enter Product Number:\"))\n",
    "                print(specific_prod_reviews(prodno))\n",
    "\n",
    "            case 3:\n",
    "                prodno=int(input(\"Enter Product Number:\"))\n",
    "                star=int(input(\"Enter Star Number:\"))\n",
    "                print(reviews_according_to_stars(star,prodno))\n",
    "    \n",
    "            case 4:\n",
    "                choice2=99\n",
    "                while choice2 != 0:\n",
    "                    choice2=int(input(\"\\nEnter 0 to EXIT sentiment analysis menu\\\n",
    "                    \\nEnter 1 to run sentiment analysis on reviews of specific product\\\n",
    "                    \\nEnter 2 to get all positive reviews\\\n",
    "                    \\nEnter 3 to get all negative reviews\\\n",
    "                    \\nEnter 4 to get all neutral reviews\\\n",
    "                    \\n\\tEnter Your Choice:\"))\n",
    "                    match choice2:\n",
    "                        case 0:\n",
    "                            print(\"EXIT\")\n",
    "                            break;\n",
    "        \n",
    "                        case 1:\n",
    "                            prodno=int(input(\"Enter Product Number:\"))\n",
    "                            print(sentiment_analysis(prodno))\n",
    "                        \n",
    "                        case 2:\n",
    "                            prodno=int(input(\"Enter Product Number:\"))\n",
    "                            print(Positive_sentiment(prodno))\n",
    "                            \n",
    "                        case 3:\n",
    "                            prodno=int(input(\"Enter Product Number:\"))\n",
    "                            print(Negative_sentiment(prodno))\n",
    "                            \n",
    "                        case 4:\n",
    "                            prodno=int(input(\"Enter Product Number:\"))\n",
    "                            print(Neutral_sentiment(prodno))\n",
    "                    \n",
    "            case 5:\n",
    "                choice3=99\n",
    "                while choice3 != 0:\n",
    "                    choice3=int(input(\"\\nEnter 0 to EXIT Graph menu\\\n",
    "                    \\nEnter 1 to get count graph of specific product\\\n",
    "                    \\nEnter 2 to get pie graph of specific product\\\n",
    "                    \\nEnter 3 to compare products using count graph\\\n",
    "                    \\nEnter 4 to compare products using pie graph\\\n",
    "                    \\n\\tEnter Your Choice:\"))\n",
    "                    match choice3:\n",
    "                        case 0:\n",
    "                            print(\"EXIT\")\n",
    "                            break;\n",
    "    \n",
    "                        case 1:\n",
    "                            prodno=int(input(\"Enter Product Number:\"))\n",
    "                            count_graph(prodno)\n",
    "                        \n",
    "                        case 2:\n",
    "                            prodno=int(input(\"Enter Product Number:\"))\n",
    "                            pie_graph(prodno)\n",
    "                            \n",
    "                        case 3:\n",
    "                            all_count_graph()\n",
    "                        \n",
    "                        case 4:\n",
    "                            all_pie_graph()\n",
    "            \n",
    "            case _:\n",
    "                print(\"Invalid Input.Try Again!\")\n",
    "                \n",
    "    except:\n",
    "        print(\" Invalid Input.Try Again!\")\n",
    "\"\"\""
   ]
  },
  {
   "cell_type": "code",
   "execution_count": null,
   "id": "fe8e7494",
   "metadata": {
    "papermill": {
     "duration": 0.006057,
     "end_time": "2024-03-10T16:37:01.390392",
     "exception": false,
     "start_time": "2024-03-10T16:37:01.384335",
     "status": "completed"
    },
    "tags": []
   },
   "outputs": [],
   "source": []
  },
  {
   "cell_type": "code",
   "execution_count": null,
   "id": "9f5064d1",
   "metadata": {
    "papermill": {
     "duration": 0.006597,
     "end_time": "2024-03-10T16:37:01.404969",
     "exception": false,
     "start_time": "2024-03-10T16:37:01.398372",
     "status": "completed"
    },
    "tags": []
   },
   "outputs": [],
   "source": []
  }
 ],
 "metadata": {
  "kaggle": {
   "accelerator": "none",
   "dataSources": [
    {
     "datasetId": 18,
     "sourceId": 2157,
     "sourceType": "datasetVersion"
    }
   ],
   "dockerImageVersionId": 30664,
   "isGpuEnabled": false,
   "isInternetEnabled": true,
   "language": "python",
   "sourceType": "notebook"
  },
  "kernelspec": {
   "display_name": "Python 3",
   "language": "python",
   "name": "python3"
  },
  "language_info": {
   "codemirror_mode": {
    "name": "ipython",
    "version": 3
   },
   "file_extension": ".py",
   "mimetype": "text/x-python",
   "name": "python",
   "nbconvert_exporter": "python",
   "pygments_lexer": "ipython3",
   "version": "3.10.13"
  },
  "papermill": {
   "default_parameters": {},
   "duration": 16.36674,
   "end_time": "2024-03-10T16:37:02.234181",
   "environment_variables": {},
   "exception": null,
   "input_path": "__notebook__.ipynb",
   "output_path": "__notebook__.ipynb",
   "parameters": {},
   "start_time": "2024-03-10T16:36:45.867441",
   "version": "2.5.0"
  }
 },
 "nbformat": 4,
 "nbformat_minor": 5
}
